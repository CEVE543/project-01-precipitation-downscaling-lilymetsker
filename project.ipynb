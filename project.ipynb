{
  "cells": [
    {
      "cell_type": "raw",
      "metadata": {},
      "source": [
        "---\n",
        "title: Precipitation Downscaling Project\n",
        "format:\n",
        "  html:\n",
        "    toc-depth: 3\n",
        "  docx:\n",
        "    toc: true\n",
        "    toc-depth: 3\n",
        "    fig-format: png\n",
        "date: 2023-11-2\n",
        "author: Lily Metsker (lm88)\n",
        "echo: false\n",
        "number-sections: true\n",
        "code-annotations: hover\n",
        "kind: Project\n",
        "Module: '2'\n",
        "categories:\n",
        "  - Module 2\n",
        "  - Project\n",
        "---"
      ],
      "id": "3ce3ff74"
    },
    {
      "cell_type": "markdown",
      "metadata": {},
      "source": [
        "1. Setup\n",
        "\n",
        "1.1 Load Packages\n"
      ],
      "id": "e6461b32"
    },
    {
      "cell_type": "code",
      "metadata": {},
      "source": [
        "using Dates\n",
        "using MultivariateStats\n",
        "using Plots\n",
        "using NCDatasets\n",
        "using StatsBase\n",
        "using Unitful\n",
        "using Distances\n",
        "using GLM\n",
        "using NetCDF\n",
        "using DataFrames"
      ],
      "id": "536bdfa8",
      "execution_count": null,
      "outputs": []
    },
    {
      "cell_type": "markdown",
      "metadata": {},
      "source": [
        "2. Data\n",
        "\n",
        "2.1 Precipitation\n",
        "2.1.1 Load data\n"
      ],
      "id": "3469f966"
    },
    {
      "cell_type": "code",
      "metadata": {},
      "source": [
        "#load precip data from NCDataset, this precip is over the area of Texas\n",
        "precip_ds = NCDataset(\"data/raw/precip_tx.nc\")\n",
        "#define time, longitude, latitude, and precip as variables. precip is a matrix and time, lon, and lat are vectors\n",
        "precip_time = precip_ds[\"time\"][:]\n",
        "precip_lon = precip_ds[\"lon\"][:]\n",
        "precip_lat = precip_ds[\"lat\"][:]\n",
        "precip = precip_ds[\"precip\"][:,:,:]"
      ],
      "id": "b49565c1",
      "execution_count": null,
      "outputs": []
    },
    {
      "cell_type": "markdown",
      "metadata": {},
      "source": [
        "2.1.2 Close precip dataset\n"
      ],
      "id": "c5aa575a"
    },
    {
      "cell_type": "code",
      "metadata": {},
      "source": [
        "close(precip_ds) "
      ],
      "id": "c8354b75",
      "execution_count": null,
      "outputs": []
    },
    {
      "cell_type": "markdown",
      "metadata": {},
      "source": [
        "2.1.3 Filter data\n"
      ],
      "id": "f79af269"
    },
    {
      "cell_type": "code",
      "metadata": {},
      "source": [
        "#filter precip to only include 2000-2009\n",
        "t_start = 2000\n",
        "t_end = 2009\n",
        "\n",
        "start_ind = findfirst(date -> year(date) >= t_start, precip_time)\n",
        "end_ind = findlast(date -> year(date) <= t_end, precip_time)\n",
        "precip = precip[:,:, start_ind:end_ind]\n",
        "precip_time = precip_time[start_ind:end_ind]"
      ],
      "id": "f0b694d3",
      "execution_count": null,
      "outputs": []
    },
    {
      "cell_type": "markdown",
      "metadata": {},
      "source": [
        "2.1.4 Subset data\n"
      ],
      "id": "dba7a56b"
    },
    {
      "cell_type": "code",
      "metadata": {},
      "source": [
        "#subset precip to time range t+1\n",
        "t_start = Dates.DateTime(2000, 1, 2)\n",
        "t_end = Dates.DateTime(2009, 12, 31)\n",
        "\n",
        "#create index for filtering \n",
        "\n",
        "precip_indices = t_start .<= precip_time .<= t_end\n",
        "\n",
        "precip = precip[:, :, precip_indices]\n",
        "precip_time_plus = precip_time[precip_indices]"
      ],
      "id": "43c31f6f",
      "execution_count": null,
      "outputs": []
    },
    {
      "cell_type": "markdown",
      "metadata": {},
      "source": [
        "2.1.5 Reverse latitude\n"
      ],
      "id": "4f51f913"
    },
    {
      "cell_type": "code",
      "metadata": {},
      "source": [
        "#dims 2 is telling to reverse along the second dimension (latitude)\n",
        "precip_lat = reverse(precip_lat)\n",
        "precip = reverse(precip;dims=2)"
      ],
      "id": "a8ec1dfe",
      "execution_count": null,
      "outputs": []
    },
    {
      "cell_type": "markdown",
      "metadata": {},
      "source": [
        "2.1.6 Convert lon to lon1 format\n"
      ],
      "id": "321c7092"
    },
    {
      "cell_type": "code",
      "metadata": {},
      "source": [
        "#Convert long3 to long1 format (source: https://confluence.ecmwf.int/pages/viewpage.action?pageId=149337515)\n",
        "function convert_longitude(longitude)\n",
        "    lon1 = ifelse(longitude > 180, longitude - 360, longitude)\n",
        "    return lon1\n",
        "end\n",
        "\n",
        "precip_lon = convert_longitude.(precip_lon)"
      ],
      "id": "bb55b41e",
      "execution_count": null,
      "outputs": []
    },
    {
      "cell_type": "markdown",
      "metadata": {},
      "source": [
        "2.2 Temperature\n",
        "\n",
        "2.2.1 Load data\n",
        "#(move to get_data.jl file)?\n"
      ],
      "id": "79b6c3a2"
    },
    {
      "cell_type": "code",
      "metadata": {},
      "source": [
        "#This code block was written by Chatgpt to resample hourly temperature data to daily temperature data\n",
        "\n",
        "# Write a function to convert hourly temperature to daily average\n",
        "function resample_to_daily_average(temp, temp_time)\n",
        "\n",
        "    #use floor to extract the date from the time, save as date_vector\n",
        "    date_vector = floor.(temp_time, Dates.Day)\n",
        "    #find all unique dates in the date_vector, save as unique_dates\n",
        "    unique_dates = unique(date_vector)\n",
        "\n",
        "    # Find the size of the temperature array, save as lon_points and lat_points\n",
        "    lon_points, lat_points, _ = size(temp)\n",
        "\n",
        "    # Create an empty array to store daily temperature averages\n",
        "    daily_temps = []\n",
        "\n",
        "    # Calculate daily mean by grouping unique dates\n",
        "    for date in unique_dates\n",
        "        # Find indices of all time points under a unique date\n",
        "        indices = findall(date_vector .== date)\n",
        "        \n",
        "        # Calculate daily mean for each lonxlat point\n",
        "        daily_mean = mean(temp[:, :, indices], dims=3)[:, :, 1]\n",
        "        \n",
        "        # Add daily mean to the empty array\n",
        "        push!(daily_temps, daily_mean)\n",
        "    end\n",
        "\n",
        "    # Concatenate daily means into a 3D array along the 3rd dimension\n",
        "    daily_temps = cat(daily_temps..., dims=3)\n",
        "\n",
        "    return daily_temps\n",
        "end\n",
        "\n",
        "#Write a function to call and process each year of temperature data\n",
        "function process_year(data_path)\n",
        "    # Extract year from filename, all files follow a common path structure\n",
        "    match_result = match(r\"2m_temperature_(\\d{4})\\.nc\", data_path)\n",
        "    #save individual years as string\n",
        "    year_str = match_result.captures[1]\n",
        "    #save as variable of integers\n",
        "    year = parse(Int, year_str)\n",
        "\n",
        "    # Load year's data, all files follow common data_path\n",
        "    temp_dataset = NCDataset(data_path)\n",
        "\n",
        "    # Save lon, lat, time, and temperature as variables\n",
        "    longitude = temp_dataset[\"longitude\"][:]\n",
        "    latitude = temp_dataset[\"latitude\"][:]\n",
        "    time = temp_dataset[\"time\"][:]\n",
        "    t2m = temp_dataset[\"t2m\"][:, :, :]\n",
        "\n",
        "    #save time as temp_time\n",
        "    temp_time = time\n",
        "\n",
        "    # Resample temperature data to daily averages\n",
        "    daily_temps_result = resample_to_daily_average(t2m, temp_time)\n",
        "\n",
        "    return year, daily_temps_result\n",
        "end\n",
        "\n",
        "# Paths to your data files for each year\n",
        "data_paths = [\n",
        "    \"data/raw/2m_temperature_2000.nc\",\n",
        "    \"data/raw/2m_temperature_2001.nc\",\n",
        "    \"data/raw/2m_temperature_2002.nc\",\n",
        "    \"data/raw/2m_temperature_2003.nc\",\n",
        "    \"data/raw/2m_temperature_2004.nc\",\n",
        "    \"data/raw/2m_temperature_2005.nc\",\n",
        "    \"data/raw/2m_temperature_2006.nc\",\n",
        "    \"data/raw/2m_temperature_2007.nc\",\n",
        "    \"data/raw/2m_temperature_2008.nc\",\n",
        "    \"data/raw/2m_temperature_2009.nc\"\n",
        "]\n",
        "\n",
        "# Process each year and combine the results\n",
        "all_years_temps = Dict(process_year(path) for path in data_paths if process_year(path) !== nothing)"
      ],
      "id": "42b83b67",
      "execution_count": null,
      "outputs": []
    },
    {
      "cell_type": "markdown",
      "metadata": {},
      "source": [
        "2.2.2 Combine\n"
      ],
      "id": "d0bbdcee"
    },
    {
      "cell_type": "code",
      "metadata": {},
      "source": [
        "#combine all years into one array\n",
        "#call all years and save each as a matrix with lon = 66, lat = 27, and time in days, 365 for non-leap years and 366 for leap years\n",
        "temp_2000 = reshape(all_years_temps[2000], 66, 27, 366)\n",
        "temp_2001 = reshape(all_years_temps[2001], 66, 27, 365)\n",
        "temp_2002 = reshape(all_years_temps[2002], 66, 27, 365)\n",
        "temp_2003 = reshape(all_years_temps[2003], 66, 27, 365)\n",
        "temp_2004 = reshape(all_years_temps[2004], 66, 27, 366)\n",
        "temp_2005 = reshape(all_years_temps[2005], 66, 27, 365)\n",
        "temp_2006 = reshape(all_years_temps[2006], 66, 27, 365)\n",
        "temp_2007 = reshape(all_years_temps[2007], 66, 27, 365)\n",
        "temp_2008 = reshape(all_years_temps[2008], 66, 27, 366)\n",
        "temp_2009 = reshape(all_years_temps[2009], 66, 27, 365)\n",
        "\n",
        "#combine \n",
        "temp = cat(temp_2000, temp_2001, temp_2002, temp_2003, temp_2004, temp_2005, temp_2006, temp_2007, temp_2008, temp_2009, dims=3)"
      ],
      "id": "9dbd85d3",
      "execution_count": null,
      "outputs": []
    },
    {
      "cell_type": "markdown",
      "metadata": {},
      "source": [
        "2.2.3 Save lon, lat, time, and temp variables\n"
      ],
      "id": "fe0c5fcd"
    },
    {
      "cell_type": "code",
      "metadata": {},
      "source": [
        "#Having trouble writing variable using same form of calling above, used data_dict instead but not optimal\n",
        "\n",
        "#save data_dict for 2000\n",
        "data_dict = open_mfdataset([\"data/raw/2m_temperature_2000.nc\"], \"t2m\")\n",
        "\n",
        "#define lon and lat based on year 2000 (should be the same for all years) and temp_time as precip_time (should be the same)\n",
        "temp_lon = data_dict[\"longitude\"][:]\n",
        "temp_lat = data_dict[\"latitude\"][:]\n",
        "temp_time = precip_time"
      ],
      "id": "31e734e5",
      "execution_count": null,
      "outputs": []
    },
    {
      "cell_type": "markdown",
      "metadata": {},
      "source": [
        "2.2.4 Flip the temperature latitude\n"
      ],
      "id": "ad6646ab"
    },
    {
      "cell_type": "code",
      "metadata": {},
      "source": [
        "temp_lat = reverse(temp_lat)\n",
        "temp = reverse(temp;dims=2)"
      ],
      "id": "30941be0",
      "execution_count": null,
      "outputs": []
    },
    {
      "cell_type": "markdown",
      "metadata": {},
      "source": [
        "2.2.5 Subset temperature to area of Texas instead of US\n"
      ],
      "id": "90eff4c9"
    },
    {
      "cell_type": "code",
      "metadata": {},
      "source": [
        "# Define longitude and latitude ranges for filtering based on precip data which is already filtered to Texas\n",
        "lon_min = minimum(precip_lon)\n",
        "lon_max = maximum(precip_lon)\n",
        "lat_min = minimum(precip_lat)\n",
        "lat_max = maximum(precip_lat)\n",
        "\n",
        "# Create masks for latitude and longitude based on specified ranges\n",
        "lat_mask = (lat_min .<= temp_lat .<= lat_max)\n",
        "lon_mask = (lon_min .<= temp_lon .<= lon_max)\n",
        "\n",
        "# Convert BitVector to Vector{Int} using findall\n",
        "lat_indices = findall(lat_mask)\n",
        "lon_indices = findall(lon_mask)\n",
        "\n",
        "# Update latitude and longitude data variables\n",
        "temp_lat = temp_lat[lat_indices]\n",
        "temp_lon = temp_lon[lon_indices]\n",
        "\n",
        "# Subset temperature data based on latitude and longitude indices\n",
        "temp = temp[lon_indices, lat_indices, :]"
      ],
      "id": "2e573e84",
      "execution_count": null,
      "outputs": []
    },
    {
      "cell_type": "markdown",
      "metadata": {},
      "source": [
        "2.2.6 Subset temperature time\n"
      ],
      "id": "dfe43e36"
    },
    {
      "cell_type": "code",
      "metadata": {},
      "source": [
        "#subset temperature to time range t \n",
        "t_start = Dates.DateTime(2000, 1, 1)\n",
        "t_end = Dates.DateTime(2009, 12, 30)\n",
        "\n",
        "#Create index for filtering\n",
        "temp_indices = t_start .<= temp_time .<= t_end\n",
        "\n",
        "temp = temp[:, :, temp_indices]\n",
        "\n",
        "temp_time = temp_time[temp_indices]"
      ],
      "id": "ee3fd8ed",
      "execution_count": null,
      "outputs": []
    },
    {
      "cell_type": "markdown",
      "metadata": {},
      "source": [
        "2.3 Split data into training and testing sets\n"
      ],
      "id": "cb9bc8ef"
    },
    {
      "cell_type": "code",
      "metadata": {},
      "source": [
        "#2000-2007 for training, 2008-2009 for testing\n",
        "#Define start and end times\n",
        "temp_t_start = Dates.DateTime(2000, 1, 1)\n",
        "temp_t_end = Dates.DateTime(2007, 12, 30)\n",
        "\n",
        "# Create indices for temperature\n",
        "temp_train_indices = temp_t_start .<= temp_time .<= temp_t_end\n",
        "temp_test_indices = temp_time .> temp_t_end\n",
        "\n",
        "#Subset temperature data based on indices\n",
        "temp_train = temp[:, :, temp_train_indices]\n",
        "temp_test = temp[:, :, temp_test_indices]\n",
        "\n",
        "#Subset temperature time based on indices\n",
        "time_train = filter(date -> temp_t_start <= date <= temp_t_end, temp_time)\n",
        "time_test = filter(date -> temp_t_end <= date , temp_time)\n",
        "\n",
        "#Create indices for precipitation\n",
        "precip_t_start = Dates.DateTime(2000, 1, 2)\n",
        "precip_t_end = Dates.DateTime(2007, 12, 31)\n",
        "\n",
        "#Subset precipitation data based on indices\n",
        "precip_train_indices = precip_t_start .<= precip_time_plus .<= precip_t_end\n",
        "precip_test_indices = precip_time_plus .> precip_t_end\n",
        "\n",
        "#Subset precipitation data based on indices\n",
        "precip_train = precip[:, :, precip_train_indices]\n",
        "precip_test = precip[:, :, precip_test_indices]\n"
      ],
      "id": "a55b13c4",
      "execution_count": null,
      "outputs": []
    },
    {
      "cell_type": "markdown",
      "metadata": {},
      "source": [
        "2.4 Preprocessing\n",
        "\n",
        "2.4.1 Preprocess function\n"
      ],
      "id": "a5120eb4"
    },
    {
      "cell_type": "code",
      "metadata": {},
      "source": [
        "function preprocess(temp::Array{T, 3}, temp_ref::Array{T,3}) where T\n",
        "  #we use temp_ref because we want the climatology to be the same between the test and train datasets!\n",
        "           #name lon, lat, and time as the dimensions of the temp input matrix\n",
        "           lon, lat, time = size(temp)\n",
        "           #find the climatology, dims=3 says take along the 3rd dimension (time)\n",
        "           climatology = mean(temp_ref, dims=3)\n",
        "           temp_anom = temp .- climatology\n",
        "           #reshape the data by multiplying lonxlat to a 2D matrix\n",
        "           temp_anom = reshape(temp_anom, (lon * lat, time))\n",
        "           #return\n",
        "           return temp_anom\n",
        "       end"
      ],
      "id": "ff4b11d8",
      "execution_count": null,
      "outputs": []
    },
    {
      "cell_type": "markdown",
      "metadata": {},
      "source": [
        "2.4.2 Preprocess temperature\n"
      ],
      "id": "14a509c0"
    },
    {
      "cell_type": "code",
      "metadata": {},
      "source": [
        "temp_train_proc = preprocess(temp_train, temp_train)\n",
        "temp_test_proc = preprocess(temp_test, temp_train)"
      ],
      "id": "922bde5c",
      "execution_count": null,
      "outputs": []
    },
    {
      "cell_type": "markdown",
      "metadata": {},
      "source": [
        "2.4.3 Reshape precip\n"
      ],
      "id": "0fb14008"
    },
    {
      "cell_type": "code",
      "metadata": {},
      "source": [
        "#reshape precip_train and precip_test to 2D matrices\n",
        "precip_train_reshape = reshape(precip_train, (24 * 24, 2921))\n",
        "precip_test_reshape = reshape(precip_test, (24 * 24, 731))"
      ],
      "id": "5b8b4f9c",
      "execution_count": null,
      "outputs": []
    },
    {
      "cell_type": "markdown",
      "metadata": {},
      "source": [
        "3. Principal Component Analysis\n",
        "3.1 Fit PCA model\n"
      ],
      "id": "1943d3d5"
    },
    {
      "cell_type": "code",
      "metadata": {},
      "source": [
        "pca_model = fit(PCA, temp_train_proc; maxoutdim=25);"
      ],
      "id": "9f4891e7",
      "execution_count": null,
      "outputs": []
    },
    {
      "cell_type": "markdown",
      "metadata": {},
      "source": [
        "3.2 Plot variance to determine number of PCs to keep\n"
      ],
      "id": "281ad6dc"
    },
    {
      "cell_type": "code",
      "metadata": {},
      "source": [
        "#plot the variance explained\n",
        "var_explained = plot(\n",
        "    principalvars(pca_model) / var(pca_model),\n",
        "    xlabel=\"PC\",\n",
        "    ylabel=\"Fraction of variance explained\",\n",
        "    label=false,\n",
        "    title=\"Variance Explained by PCs\"\n",
        ")\n",
        "#plot the cumulative variance explained (cdf)\n",
        "cum_var_explained = plot(\n",
        "    cumsum(principalvars(pca_model)) / var(pca_model);\n",
        "    xlabel=\"PC\",\n",
        "    ylabel=\"Fraction of variance explained\",\n",
        "    label=false,\n",
        "    title=\"Cumulative Variance Explained\"\n",
        ")\n",
        "#Plot \n",
        "plot(var_explained, cum_var_explained, layout=(1,2), size=(800,400))"
      ],
      "id": "b2892c5c",
      "execution_count": null,
      "outputs": []
    },
    {
      "cell_type": "markdown",
      "metadata": {},
      "source": [
        "3.3 Transform PCs\n"
      ],
      "id": "82e64af0"
    },
    {
      "cell_type": "code",
      "metadata": {},
      "source": [
        "#transform temp_train onto PCA space\n",
        "temp_train_transform = transform(pca_model, temp_train_proc)\n",
        "#predict temp_test \n",
        "temp_test_transform = predict(pca_model, temp_test_proc)"
      ],
      "id": "ecbd0e28",
      "execution_count": null,
      "outputs": []
    },
    {
      "cell_type": "markdown",
      "metadata": {},
      "source": [
        "3.4 Save first three PCs\n"
      ],
      "id": "987f9fd1"
    },
    {
      "cell_type": "code",
      "metadata": {},
      "source": [
        "PC1 = temp_train_transform[1,:]\n",
        "PC2 = temp_train_transform[2,:]\n",
        "PC3 = temp_train_transform[3,:]"
      ],
      "id": "16e50403",
      "execution_count": null,
      "outputs": []
    },
    {
      "cell_type": "markdown",
      "metadata": {},
      "source": [
        "3.5 Plot PCA\n",
        "\n",
        "3.5.1 Plot time series of first three PCs\n"
      ],
      "id": "d01530b3"
    },
    {
      "cell_type": "code",
      "metadata": {},
      "source": [
        "pc1_plot = scatter(time_train, PC1, label=\"PC1\", xlabel=\"Time\", ylabel=\"PC1\", title=\"PC1 Time Series\", legend=:topleft)\n",
        "pc2_plot = scatter(time_train, PC2, label=\"PC2\", xlabel=\"Time\", ylabel=\"PC2\", title=\"PC2 Time Series\", legend=:topleft)\n",
        "pc3_plot = scatter(time_train, PC3, label=\"PC3\", xlabel=\"Time\", ylabel=\"PC3\", title=\"PC3 Time Series\", legend=:topleft)"
      ],
      "id": "fe43e45d",
      "execution_count": null,
      "outputs": []
    },
    {
      "cell_type": "markdown",
      "metadata": {},
      "source": [
        "3.5.2 Plot first 2 PCs and mean precipitation\n"
      ],
      "id": "7655bf8a"
    },
    {
      "cell_type": "code",
      "metadata": {},
      "source": [
        "#plot the first two PCs with the mean precipitation\n",
        "#replace missing with 0.0\n",
        "precip_train_zero = coalesce.(precip_train_reshape, 0.0)\n",
        "replace!(precip_train_zero, NaN => 0.0)\n",
        "mean_precip = mean.(precip_train_zero)\n",
        "\n",
        "pc_heat = scatter(PC1, PC2, zcolor=mean_precip'; xlabel=\"PC1\", ylabel=\"PC2\", title=\"PC1 vs PC2\", legend=:topleft)"
      ],
      "id": "bf3a5f44",
      "execution_count": null,
      "outputs": []
    },
    {
      "cell_type": "markdown",
      "metadata": {},
      "source": [
        "3.5.3 Plot the second and third PCs with mean precipitation\n"
      ],
      "id": "f4e725f7"
    },
    {
      "cell_type": "code",
      "metadata": {},
      "source": [
        "pc_heat = scatter(PC2, PC3, zcolor=mean_precip'; xlabel=\"PC1\", ylabel=\"PC2\", title=\"PC2 vs PC3\", legend=:topleft)"
      ],
      "id": "83679f79",
      "execution_count": null,
      "outputs": []
    },
    {
      "cell_type": "markdown",
      "metadata": {},
      "source": [
        "4. Approach 1: KNN\n",
        "\n",
        "4.1 Define KNN function\n"
      ],
      "id": "55c2df53"
    },
    {
      "cell_type": "code",
      "metadata": {},
      "source": [
        "#source: lab 6\n",
        "#define euclidean distance function\n",
        "function euclidean_distance(x::AbstractVector, y::AbstractVector)::AbstractFloat\n",
        "return sqrt(sum((x .- y) .^ 2))\n",
        "end\n",
        "\n",
        "#define nsmallest function\n",
        "function nsmallest(x::AbstractVector, n::Int)::Vector{Int}\n",
        "idx = sortperm(x)\n",
        "return idx[1:n]\n",
        "end\n",
        "\n",
        "#define knn function\n",
        "function knn(X::AbstractMatrix, X_i::AbstractVector, K::Int)::Tuple{Int,AbstractVector}\n",
        "# calculate the distances between X_i and each row of X\n",
        "dist = [euclidean_distance(X_i, X[j, :]) for j in 1:size(X, 1)]\n",
        "idx = nsmallest(dist, K)\n",
        "w = 1 ./ dist[idx]\n",
        "w ./= sum(w)\n",
        "idx_sample = sample(idx, Weights(w))\n",
        "return (idx_sample, vec(X[idx_sample, :]))\n",
        "end"
      ],
      "id": "acb3203f",
      "execution_count": null,
      "outputs": []
    },
    {
      "cell_type": "markdown",
      "metadata": {},
      "source": [
        "4.2 Combining PCA and KNN\n"
      ],
      "id": "b46220d0"
    },
    {
      "cell_type": "code",
      "metadata": {},
      "source": [
        "#source: lab 6\n",
        "function predict_knn(\n",
        "                  temp_train::Array{Union{Missing, Float64}, 3}, \n",
        "                  temp_test::Array{Union{Missing, Float64}, 3}, \n",
        "                  precip_train::Array{AbstractFloat, 3},\n",
        "                  n_pca::Int64, \n",
        "                  K::Int64)\n",
        "    #preprocessing\n",
        "        temp_train_proc = preprocess(temp_train, temp_train) \n",
        "        temp_test_proc = preprocess(temp_test, temp_test) \n",
        "    #dimensionality reduction using PCA\n",
        "        #apply PCA to test\n",
        "        pca_model = fit(PCA, temp_train_proc; maxoutdim=n_pca)\n",
        "        #predict test data onto PCA\n",
        "        predict_train = predict(pca_model, temp_train_proc)\n",
        "        predict_test = predict(pca_model, temp_test_proc)\n",
        "              \n",
        "    # use the `knn` function for each point in the test data\n",
        "        predicted_precip = map(1:size(temp_test_proc, 2)) do i\n",
        "        #find the indices of the n smallest values in x\n",
        "        #K = number of nearest neighbors\n",
        "        index, _ = knn(predict_train', predict_test[:,i], K)\n",
        "                      precip_train[:,:, index]\n",
        "         end\n",
        "                 \n",
        "   \n",
        "    return predicted_precip\n",
        "end"
      ],
      "id": "63b646c5",
      "execution_count": null,
      "outputs": []
    },
    {
      "cell_type": "markdown",
      "metadata": {},
      "source": [
        "4.3 Test the model\n"
      ],
      "id": "45d76947"
    },
    {
      "cell_type": "code",
      "metadata": {},
      "source": [
        "#replace missing with 0.0\n",
        "precip_train_zero = coalesce.(precip_train, 0.0)\n",
        "#predict test precipitation \n",
        "pca_knn_test_predict = predict_knn(temp_train, temp_test, precip_train_zero, 3, 3 )\n",
        "#convert vector of matrices to 3D array\n",
        "pca_knn_test_predict_reshape = cat(pca_knn_test_predict..., dims=3)"
      ],
      "id": "4fba27b1",
      "execution_count": null,
      "outputs": []
    },
    {
      "cell_type": "markdown",
      "metadata": {},
      "source": [
        "4.4 Analyze Fit\n",
        "\n",
        "4.4.1 Reshape data for plotting\n"
      ],
      "id": "271e58f9"
    },
    {
      "cell_type": "code",
      "metadata": {},
      "source": [
        "#replace missing with 0.0\n",
        "precip_test_zero = coalesce.(precip_test, 0.0)\n",
        "\n",
        "#rehape to 2D array\n",
        "precip_test_reshape = reshape(precip_test_zero, (24*24, 731))\n",
        "pca_knn_test_predict_2D = reshape(pca_knn_test_predict_reshape, (24*24, 731))"
      ],
      "id": "d864dd84",
      "execution_count": null,
      "outputs": []
    },
    {
      "cell_type": "markdown",
      "metadata": {},
      "source": [
        "4.4.2 Time series actual vs predicted test precipitation\n"
      ],
      "id": "7464a733"
    },
    {
      "cell_type": "code",
      "metadata": {},
      "source": [
        "#plot predicted precipitation vs actual precipitation at a single grid cell\n",
        "plot(time_test[1:731], pca_knn_test_predict_2D[1, :], label=\"Actual Precipitation\", xlabel=\"Time\", ylabel=\"Precipitation\", title=\"Precipitation at t+1 Predicted by KNN- GC 1\", legend=:topleft)\n",
        "plot!(time_test[1:731], precip_test_reshape[1,:], label=\"Predicted Precipitation\", xlabel=\"Time\", ylabel=\"Precipitation\", legend=:topleft)"
      ],
      "id": "d0287556",
      "execution_count": null,
      "outputs": []
    },
    {
      "cell_type": "code",
      "metadata": {},
      "source": [
        "#plot predicted precipitation vs actual precipitation at a single grid cell\n",
        "plot(time_test[1:731], pca_knn_test_predict_2D[150, :], label=\"Actual Precipitation\", xlabel=\"Time\", ylabel=\"Precipitation\", title=\"Precipitation at t+1 Predicted by KNN- GC 150\", legend=:topleft)\n",
        "plot!(time_test[1:731], precip_test_reshape[150,:], label=\"Predicted Precipitation\", xlabel=\"Time\", ylabel=\"Precipitation\", legend=:topleft)"
      ],
      "id": "85044472",
      "execution_count": null,
      "outputs": []
    },
    {
      "cell_type": "code",
      "metadata": {},
      "source": [
        "#plot predicted precipitation vs actual precipitation at a single grid cell\n",
        "plot(time_test[1:731], pca_knn_test_predict_2D[400, :], label=\"Actual Precipitation\", xlabel=\"Time\", ylabel=\"Precipitation\", title=\"Precipitation at t+1 Predicted by KNN- GC 400\", legend=:topleft)\n",
        "plot!(time_test[1:731], precip_test_reshape[400,:], label=\"Predicted Precipitation\", xlabel=\"Time\", ylabel=\"Precipitation\", legend=:topleft)"
      ],
      "id": "e3b53ca3",
      "execution_count": null,
      "outputs": []
    },
    {
      "cell_type": "markdown",
      "metadata": {},
      "source": [
        "4.4.3 Heatmaps\n"
      ],
      "id": "e26e76e4"
    },
    {
      "cell_type": "code",
      "metadata": {},
      "source": [
        "#Plot for several time points at all grid cells\n",
        "knn_pred_hm_1 = heatmap(pca_knn_test_predict_reshape[:,:,1]; xlabel=\"Longitude\", ylabel=\"Latitude\", title=\"Predicted Precipitation at t+1 Predicted by KNN\", legend=:topleft)\n",
        "\n",
        "knn_act_hm_1 = heatmap( precip_test_zero[:, :, 1]; label=\"Actual Precipitation\", xlabel=\"Longitude\", ylabel=\"Latitude\", title=\"Actual Precipitation at t+1 Predicted by KNN\", legend=:topleft)\n",
        "\n",
        "knn_pred_hm_150 = heatmap(pca_knn_test_predict_reshape[:,:,150]; xlabel=\"Longitude\", ylabel=\"Latitude\", title=\"Predicted Precipitation at t+1 Predicted by KNN\", legend=:topleft)\n",
        "\n",
        "\n",
        "knn_act_hm_150 = heatmap( precip_test_zero[:, :, 150]; label=\"Actual Precipitation\", xlabel=\"Longitude\", ylabel=\"Latitude\", title=\"Actual Precipitation at t+1 Predicted by KNN\", legend=:topleft)\n",
        "\n",
        "knn_pred_hm_400 = heatmap(pca_knn_test_predict_reshape[:,:,400]; xlabel=\"Longitude\", ylabel=\"Latitude\", title=\"Predicted Precipitation at t+1 Predicted by KNN\", legend=:topleft)\n",
        "\n",
        "\n",
        "knn_act_hm_400 = heatmap( precip_test_zero[:, :, 400]; label=\"Actual Precipitation\", xlabel=\"Longitude\", ylabel=\"Latitude\", title=\"Actual Precipitation at t+1 Predicted by KNN\", legend=:topleft)"
      ],
      "id": "6ffb2e83",
      "execution_count": null,
      "outputs": []
    },
    {
      "cell_type": "markdown",
      "metadata": {},
      "source": [
        "4.4.4 Evaluate fit using MSE\n"
      ],
      "id": "a329ea1a"
    },
    {
      "cell_type": "code",
      "metadata": {},
      "source": [
        "#Define mse function\n",
        "function mean_se(x::AbstractVector, y::AbstractVector)::AbstractFloat\n",
        "return mean((x .- y) .^ 2)\n",
        "end"
      ],
      "id": "e3f8ea54",
      "execution_count": null,
      "outputs": []
    },
    {
      "cell_type": "code",
      "metadata": {},
      "source": [
        "# Calculate mse for each point in precip_test\n",
        "#create an empty vector\n",
        "mse_knn = []\n",
        "for i in 1:size(precip_test_zero, 1)\n",
        "    mse_ = mean_se(pca_knn_test_predict_2D[:,i], precip_test_zero[:,i])\n",
        "    #store mse in vector\n",
        "    push!(mse_knn, mse_)\n",
        "end"
      ],
      "id": "c42ad57c",
      "execution_count": null,
      "outputs": []
    },
    {
      "cell_type": "markdown",
      "metadata": {},
      "source": [
        "4.4.5 Evaluate fit using MAE\n"
      ],
      "id": "fbdd46a1"
    },
    {
      "cell_type": "code",
      "metadata": {},
      "source": [
        "#Define mae function\n",
        "function mean_abs_error(x::AbstractVector, y::AbstractVector)::AbstractFloat\n",
        "return mean(abs.(x .- y))\n",
        "end"
      ],
      "id": "b7020c8c",
      "execution_count": null,
      "outputs": []
    },
    {
      "cell_type": "code",
      "metadata": {},
      "source": [
        "#create empty vector\n",
        "mae_knn = []\n",
        "for i in 1:size(precip_test_zero, 1)\n",
        "    mae_ = mean_abs_error(pca_knn_test_predict_2D[:,i], precip_test_zero[:,i])\n",
        "    #store mae in vector\n",
        "    push!(mae_knn, mae_)\n",
        "end"
      ],
      "id": "150191f0",
      "execution_count": null,
      "outputs": []
    },
    {
      "cell_type": "markdown",
      "metadata": {},
      "source": [
        "4.4.6 Evaluate fit using residuals\n"
      ],
      "id": "c7668c7c"
    },
    {
      "cell_type": "code",
      "metadata": {},
      "source": [
        "#Define residuals function\n",
        "function residuals(x::AbstractVector, y::AbstractVector)::AbstractVector\n",
        "return x .- y\n",
        "end"
      ],
      "id": "8088fe3a",
      "execution_count": null,
      "outputs": []
    },
    {
      "cell_type": "code",
      "metadata": {},
      "source": [
        "#create vector for residuals\n",
        "residuals_knn = Vector{Float32}(undef, size(precip_test_zero, 1) * size(precip_test_zero, 2))\n",
        "\n",
        "k = 1\n",
        "for i in 1:size(precip_test_zero, 1)\n",
        "    for j in 1:size(precip_test_zero, 2)\n",
        "        residuals_knn[k] = pca_knn_test_predict_2D[i, j] - precip_test_zero[i, j]\n",
        "        k += 1\n",
        "    end\n",
        "end"
      ],
      "id": "1833816e",
      "execution_count": null,
      "outputs": []
    },
    {
      "cell_type": "markdown",
      "metadata": {},
      "source": [
        "5. Approach 2: PCA/Linear Regression\n",
        "\n",
        "5.1 Linear Regression\n"
      ],
      "id": "0ed3974c"
    },
    {
      "cell_type": "code",
      "metadata": {},
      "source": [
        "#fit the PCA model to training data and transform the temp train and testing data onto the PCA space\n",
        "pca_model = fit(PCA, temp_train_proc; maxoutdim=1)\n",
        "                  #predict test data onto PCA\n",
        "                  predict_train = predict(pca_model, temp_train_proc)\n",
        "                  predict_test = predict(pca_model, temp_test_proc)\n",
        "\n",
        "#transpose predict_train and predict_test\n",
        "temp_train_transform = predict_train'\n",
        "temp_test_transform = predict_test'\n",
        "#save as vectors\n",
        "temp_train_transform = temp_train_transform[:]\n",
        "temp_test_transform = temp_test_transform[:]\n",
        "\n",
        "#remove missing values from precip_train\n",
        "precip_train_zero = coalesce.(precip_train, 0.0)\n",
        "#reshape to lonxlat\n",
        "precip_train_reshape = reshape(precip_train_zero, (24 * 24, 2921))"
      ],
      "id": "cd7d8dfe",
      "execution_count": null,
      "outputs": []
    },
    {
      "cell_type": "code",
      "metadata": {},
      "source": [
        "#regression for all grid cells in precip_train\n",
        "# Create an empty vector to store predictions\n",
        "all_predictions = Vector{Vector{Float64}}()\n",
        "for grid_cell in 1:size(precip_train_reshape, 1)\n",
        "    precip_train_linear = convert(Vector{Float64},precip_train_reshape[grid_cell, :])\n",
        "    # Create a DataFrame for the training data\n",
        "    df = DataFrame(temp_train_transform = temp_train_transform, precip_train_linear = precip_train_linear)\n",
        "\n",
        "    # Fit linear regression model\n",
        "    linear_model = lm(@formula(precip_train_linear ~ temp_train_transform), df)\n",
        "\n",
        "    # Create a DataFrame for the test data\n",
        "    df_test = DataFrame(temp_train_transform = temp_test_transform)\n",
        "\n",
        "    # Predict precipitation for temp_test\n",
        "    y_pred = predict(linear_model, df_test)\n",
        " push!(all_predictions, y_pred)\n",
        "end\n",
        "#convert to matrix\n",
        "all_predictions_matrix = hcat(all_predictions...)"
      ],
      "id": "3e3ea82f",
      "execution_count": null,
      "outputs": []
    },
    {
      "cell_type": "markdown",
      "metadata": {},
      "source": [
        "5.2 Analyze Fit\n",
        "5.2.1 Plot time series of actual vs predicted precipitation at different grid cells\n"
      ],
      "id": "5d3d6d64"
    },
    {
      "cell_type": "code",
      "metadata": {},
      "source": [
        "#plot y_pred vs test_time at different grid cells\n",
        "plot(time_test[1:731], all_predictions_matrix[:,1], label=\"Predicted Precipitation\", xlabel=\"Time\", ylabel=\"Precipitation\", title=\"Linear Regression\", legend=:topleft)\n",
        "plot!(time_test[1:731], precip_test_reshape[1, :], label=\"Actual Precipitation\", xlabel=\"Time\", ylabel=\"Precipitation\", title=\"Precipitation at t+1 Predicted by Linear Regression- GC 1\", legend=:topleft)"
      ],
      "id": "00e76a4c",
      "execution_count": null,
      "outputs": []
    },
    {
      "cell_type": "code",
      "metadata": {},
      "source": [
        "plot(time_test[1:731], all_predictions_matrix[:,150], label=\"Predicted Precipitation\", xlabel=\"Time\", ylabel=\"Precipitation\", title=\"Linear Regression\", legend=:topleft)\n",
        "plot!(time_test[1:731], precip_test_reshape[150, :], label=\"Actual Precipitation\", xlabel=\"Time\", ylabel=\"Precipitation\", title=\"Precipitation at t+1 Predicted by Linear Regression- GC 150\", legend=:topleft)"
      ],
      "id": "45a673af",
      "execution_count": null,
      "outputs": []
    },
    {
      "cell_type": "code",
      "metadata": {},
      "source": [
        "plot(time_test[1:731], all_predictions_matrix[:,400], label=\"Predicted Precipitation\", xlabel=\"Time\", ylabel=\"Precipitation\", title=\"Linear Regression\", legend=:topleft)\n",
        "plot!(time_test[1:731], precip_test_reshape[400, :], label=\"Actual Precipitation\", xlabel=\"Time\", ylabel=\"Precipitation\", title=\"Precipitation at t+1 Predicted by Linear Regression- GC 400\", legend=:topleft)"
      ],
      "id": "c1989f2b",
      "execution_count": null,
      "outputs": []
    },
    {
      "cell_type": "markdown",
      "metadata": {},
      "source": [
        "5.2.2 Evaluate Fit using MSE\n"
      ],
      "id": "518eedf8"
    },
    {
      "cell_type": "code",
      "metadata": {},
      "source": [
        "mse_lin = []\n",
        "for i in 1:size(precip_test_reshape, 1)\n",
        "    mse_ = mean_se(all_predictions_matrix[i,:], precip_test_reshape[:,i])\n",
        "    push!(mse_lin, mse_)\n",
        "end"
      ],
      "id": "f46afc15",
      "execution_count": null,
      "outputs": []
    },
    {
      "cell_type": "markdown",
      "metadata": {},
      "source": [
        "5.2.3 Evaluate fit using MAE\n"
      ],
      "id": "22c95260"
    },
    {
      "cell_type": "code",
      "metadata": {},
      "source": [
        "mae_lin = []\n",
        "for i in 1:size(precip_test_reshape, 1)\n",
        "    mae_ = mean_abs_error(all_predictions_matrix[i,:], precip_test_reshape[:,i])\n",
        "    push!(mae_lin, mae_)\n",
        "end"
      ],
      "id": "8065f8af",
      "execution_count": null,
      "outputs": []
    },
    {
      "cell_type": "markdown",
      "metadata": {},
      "source": [
        "5.2.4 Evaluate fit using residuals\n"
      ],
      "id": "88751d9d"
    },
    {
      "cell_type": "code",
      "metadata": {},
      "source": [
        "residuals_lin = Vector{Float32}(undef, size(precip_test_reshape, 1) * size(precip_test_zero, 2))\n",
        "\n",
        "k = 1\n",
        "for i in 1:size(precip_test_reshape, 1)\n",
        "    for j in 1:size(precip_test_reshape, 2)\n",
        "        residuals_lin[k] = all_predictions_matrix[j, i] - precip_test_reshape[i,j ]\n",
        "        k += 1\n",
        "    end\n",
        "end"
      ],
      "id": "17a99051",
      "execution_count": null,
      "outputs": []
    },
    {
      "cell_type": "markdown",
      "metadata": {},
      "source": [
        "6. Compare\n"
      ],
      "id": "e8991af2"
    },
    {
      "cell_type": "code",
      "metadata": {},
      "source": [
        "mae_lin_mean = mean(mae_lin)\n",
        "mae_knn_mean = mean(mae_knn) \n",
        "mse_knn_mean = mean(mse_knn)\n",
        "mse_lin_mean = mean(mse_lin)\n",
        "residuals_lin_mean = mean(residuals_lin)\n",
        "residuals_knn_mean = mean(residuals_knn)"
      ],
      "id": "916ebc1a",
      "execution_count": null,
      "outputs": []
    },
    {
      "cell_type": "code",
      "metadata": {},
      "source": [
        "#create bar chart mae\n",
        "bar([\"Linear Regression\", \"KNN\"], [mae_lin_mean, mae_knn_mean], label=\"MAE\", title=\"MAE for Linear Regression and KNN\", xlabel=\"Model\", ylabel=\"MAE\", legend=:topleft)"
      ],
      "id": "4e1a3168",
      "execution_count": null,
      "outputs": []
    },
    {
      "cell_type": "code",
      "metadata": {},
      "source": [
        "#create bar chart mse\n",
        "bar([\"Linear Regression\", \"KNN\"], [mse_lin_mean, mse_knn_mean], label=\"MSE\", title=\"MSE for Linear Regression and KNN\", xlabel=\"Model\", ylabel=\"MSE\", legend=:topleft)"
      ],
      "id": "332dd09b",
      "execution_count": null,
      "outputs": []
    },
    {
      "cell_type": "code",
      "metadata": {},
      "source": [
        "#create bar chart residuals\n",
        "bar([\"Linear Regression\", \"KNN\"], [residuals_lin_mean, residuals_knn_mean], label=\"Residuals\", title=\"Residuals for Linear Regression and KNN\", xlabel=\"Model\", ylabel=\"Residuals\", legend=:topleft)"
      ],
      "id": "fe578692",
      "execution_count": null,
      "outputs": []
    }
  ],
  "metadata": {
    "kernelspec": {
      "name": "julia-1.9",
      "language": "julia",
      "display_name": "Julia 1.9.2"
    }
  },
  "nbformat": 4,
  "nbformat_minor": 5
}